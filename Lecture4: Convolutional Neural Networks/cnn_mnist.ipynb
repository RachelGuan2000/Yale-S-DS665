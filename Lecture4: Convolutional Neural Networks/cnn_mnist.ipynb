{
  "cells": [
    {
      "cell_type": "markdown",
      "metadata": {
        "id": "anQ11-tj8BRC"
      },
      "source": [
        "## CNN Demo\n",
        "\n",
        "Here we illustrate how (dangerously) simple it is to build a convolutional neural network for image classification, using the iconic MNIST dataset. See [this article](https://www.nature.com/articles/d41586-022-02964-6) from last week for greater inspiration!\n",
        "\n"
      ],
      "id": "anQ11-tj8BRC"
    },
    {
      "cell_type": "code",
      "execution_count": 1,
      "metadata": {
        "id": "xDFwme0j8BRG"
      },
      "outputs": [],
      "source": [
        "import numpy as np\n",
        "from tensorflow import keras\n",
        "from tensorflow.keras import layers\n",
        "import matplotlib.pyplot as plt\n"
      ],
      "id": "xDFwme0j8BRG"
    },
    {
      "cell_type": "markdown",
      "metadata": {
        "id": "7vH8O3Ik8BRI"
      },
      "source": [
        "First, load the MNIST dataset with 60000 training images and 10000 test images."
      ],
      "id": "7vH8O3Ik8BRI"
    },
    {
      "cell_type": "code",
      "execution_count": 2,
      "metadata": {
        "id": "7ohdmAa38BRJ",
        "outputId": "ac34531a-d704-4f99-ce9b-9a64f8339746",
        "colab": {
          "base_uri": "https://localhost:8080/"
        }
      },
      "outputs": [
        {
          "output_type": "stream",
          "name": "stdout",
          "text": [
            "Downloading data from https://storage.googleapis.com/tensorflow/tf-keras-datasets/mnist.npz\n",
            "11493376/11490434 [==============================] - 0s 0us/step\n",
            "11501568/11490434 [==============================] - 0s 0us/step\n",
            "x_train shape: (60000, 28, 28, 1)\n",
            "60000 train samples\n",
            "10000 test samples\n"
          ]
        }
      ],
      "source": [
        "num_classes = 10\n",
        "input_shape = (28, 28, 1)\n",
        "\n",
        "#read in the data, split between train and test sets\n",
        "(x_train, y_train), (x_test, y_test) = keras.datasets.mnist.load_data()\n",
        "class_label={0:\"0\",1:\"1\",2:\"2\",3:\"3\",4:\"4\",5:\"5\",6:\"6\",7:\"7\",8:\"8\",9:\"9\"}\n",
        "\n",
        "#(x_train, y_train), (x_test, y_test) = keras.datasets.fashion_mnist.load_data()\n",
        "#class_label={0:\"T-shirt/top\",1:\"Pants\",2:\"Pullover\",3:\"Dress\",4:\"Coat\",5:\"Sandal\",\n",
        "#             6:\"Shirt\",7:\"Sneaker\",8:\"Bag\",9:\"Ankle boot\"}\n",
        "\n",
        "\n",
        "# Scale images to the [0, 1] range\n",
        "x_train = x_train.astype(\"float32\") / 255\n",
        "x_test = x_test.astype(\"float32\") / 255\n",
        "\n",
        "# Make sure images have shape (28, 28, 1)\n",
        "x_train = np.expand_dims(x_train, -1)\n",
        "x_test = np.expand_dims(x_test, -1)\n",
        "print(\"x_train shape:\", x_train.shape)\n",
        "print(x_train.shape[0], \"train samples\")\n",
        "print(x_test.shape[0], \"test samples\")\n",
        "\n",
        "\n",
        "# convert class vectors to binary class matrices\n",
        "y_train_binary = keras.utils.to_categorical(y_train, num_classes)\n",
        "y_test_binary = keras.utils.to_categorical(y_test, num_classes)"
      ],
      "id": "7ohdmAa38BRJ"
    },
    {
      "cell_type": "code",
      "execution_count": 3,
      "metadata": {
        "id": "tGz62b5r8BRL",
        "outputId": "27b8547b-1acd-4d9b-acec-6cebdd0292d4",
        "colab": {
          "base_uri": "https://localhost:8080/",
          "height": 270
        }
      },
      "outputs": [
        {
          "output_type": "execute_result",
          "data": {
            "text/plain": [
              "'1'"
            ],
            "application/vnd.google.colaboratory.intrinsic+json": {
              "type": "string"
            }
          },
          "metadata": {},
          "execution_count": 3
        },
        {
          "output_type": "display_data",
          "data": {
            "text/plain": [
              "<Figure size 432x288 with 1 Axes>"
            ],
            "image/png": "[encoded data removed]"
          },
          "metadata": {}
        }
      ],
      "source": [
        "# Plot a few training examples\n",
        "\n",
        "i = np.random.choice(range(len(x_train)))\n",
        "plt.imshow(x_train[i,:,:,0], cmap='gray_r')\n",
        "plt.xticks([])\n",
        "plt.yticks([])\n",
        "y = np.argmax(y_train_binary[i])\n",
        "class_label[y]"
      ],
      "id": "tGz62b5r8BRL"
    },
    {
      "cell_type": "markdown",
      "metadata": {
        "id": "cZqoQ4AG8BRM"
      },
      "source": [
        "Next, we initialize our convolutional neural network similar, with two convolutional layers, two dense layers."
      ],
      "id": "cZqoQ4AG8BRM"
    },
    {
      "cell_type": "code",
      "execution_count": 4,
      "metadata": {
        "id": "EGzxzORQ8BRM",
        "outputId": "18f1d7e5-0fda-4d53-b137-40c5e1e92eae",
        "colab": {
          "base_uri": "https://localhost:8080/"
        }
      },
      "outputs": [
        {
          "output_type": "stream",
          "name": "stdout",
          "text": [
            "Model: \"sequential\"\n",
            "_________________________________________________________________\n",
            " Layer (type)                Output Shape              Param #   \n",
            "=================================================================\n",
            " conv2d (Conv2D)             (None, 24, 24, 32)        832       \n",
            "                                                                 \n",
            " max_pooling2d (MaxPooling2D  (None, 12, 12, 32)       0         \n",
            " )                                                               \n",
            "                                                                 \n",
            " conv2d_1 (Conv2D)           (None, 8, 8, 16)          12816     \n",
            "                                                                 \n",
            " max_pooling2d_1 (MaxPooling  (None, 4, 4, 16)         0         \n",
            " 2D)                                                             \n",
            "                                                                 \n",
            " flatten (Flatten)           (None, 256)               0         \n",
            "                                                                 \n",
            " dropout (Dropout)           (None, 256)               0         \n",
            "                                                                 \n",
            " dense (Dense)               (None, 128)               32896     \n",
            "                                                                 \n",
            " dense_1 (Dense)             (None, 10)                1290      \n",
            "                                                                 \n",
            "=================================================================\n",
            "Total params: 47,834\n",
            "Trainable params: 47,834\n",
            "Non-trainable params: 0\n",
            "_________________________________________________________________\n"
          ]
        }
      ],
      "source": [
        "model = keras.Sequential(\n",
        "    [\n",
        "        keras.Input(shape=(28, 28, 1)),\n",
        "        layers.Conv2D(32, kernel_size=(5, 5), activation='relu'),\n",
        "        layers.MaxPooling2D(pool_size=(2, 2)),\n",
        "        layers.Conv2D(16, kernel_size=(5, 5), activation='relu'),\n",
        "        layers.MaxPooling2D(pool_size=(2, 2)),\n",
        "        layers.Flatten(),\n",
        "        layers.Dropout(0.5),\n",
        "        layers.Dense(128, activation='tanh'),\n",
        "        layers.Dense(num_classes, activation='softmax'),\n",
        "    ]\n",
        ")\n",
        "\n",
        "model.summary()"
      ],
      "id": "EGzxzORQ8BRM"
    },
    {
      "cell_type": "code",
      "execution_count": 5,
      "metadata": {
        "id": "ATdniljo8BRO",
        "outputId": "ec92d6e1-3428-4cf7-bea0-db346a918a33",
        "colab": {
          "base_uri": "https://localhost:8080/"
        }
      },
      "outputs": [
        {
          "output_type": "stream",
          "name": "stdout",
          "text": [
            "Epoch 1/2\n",
            "422/422 [==============================] - 40s 93ms/step - loss: 0.3762 - accuracy: 0.8850 - val_loss: 0.0685 - val_accuracy: 0.9810\n",
            "Epoch 2/2\n",
            "422/422 [==============================] - 39s 91ms/step - loss: 0.1289 - accuracy: 0.9598 - val_loss: 0.0484 - val_accuracy: 0.9860\n"
          ]
        },
        {
          "output_type": "execute_result",
          "data": {
            "text/plain": [
              "<keras.callbacks.History at 0x7f7d57a24950>"
            ]
          },
          "metadata": {},
          "execution_count": 5
        }
      ],
      "source": [
        "# Next train it with a single pass through the training data, in mini-batches of size 128\n",
        "\n",
        "batch_size = 128\n",
        "epochs = 2\n",
        "\n",
        "model.compile(loss=\"categorical_crossentropy\", optimizer=\"adam\", metrics=[\"accuracy\"])\n",
        "model.fit(x_train, y_train_binary, batch_size=batch_size, epochs=epochs, validation_split=0.1)"
      ],
      "id": "ATdniljo8BRO"
    },
    {
      "cell_type": "code",
      "execution_count": 6,
      "metadata": {
        "id": "B7eRfF0l8BRP",
        "outputId": "bc0f744d-2b51-4265-ccf6-13ecb3958490",
        "colab": {
          "base_uri": "https://localhost:8080/"
        }
      },
      "outputs": [
        {
          "output_type": "stream",
          "name": "stdout",
          "text": [
            "Test loss: 0.0472\n",
            "Test accuracy: 98.49%\n"
          ]
        }
      ],
      "source": [
        "score = model.evaluate(x_test, y_test_binary, verbose=0)\n",
        "print(\"Test loss: %.4f\" % score[0])\n",
        "print(\"Test accuracy: %.2f%%\" % (100*score[1]))"
      ],
      "id": "B7eRfF0l8BRP"
    },
    {
      "cell_type": "code",
      "execution_count": 7,
      "metadata": {
        "id": "T-AtFBIW8BRR"
      },
      "outputs": [],
      "source": [
        "out = model.predict(x_test)"
      ],
      "id": "T-AtFBIW8BRR"
    },
    {
      "cell_type": "code",
      "execution_count": 8,
      "metadata": {
        "id": "cF8Jz2978BRS",
        "outputId": "73425e52-c6bf-496e-aaca-a7e982de6b28",
        "colab": {
          "base_uri": "https://localhost:8080/",
          "height": 270
        }
      },
      "outputs": [
        {
          "output_type": "execute_result",
          "data": {
            "text/plain": [
              "'9'"
            ],
            "application/vnd.google.colaboratory.intrinsic+json": {
              "type": "string"
            }
          },
          "metadata": {},
          "execution_count": 8
        },
        {
          "output_type": "display_data",
          "data": {
            "text/plain": [
              "<Figure size 432x288 with 1 Axes>"
            ],
            "image/png": "[encoded data removed]"
          },
          "metadata": {}
        }
      ],
      "source": [
        "# Look at some test predictions \n",
        "\n",
        "i = np.random.choice(range(len(x_test)))\n",
        "plt.imshow(x_test[i,:,:,0], cmap='gray_r')\n",
        "plt.xticks([])\n",
        "plt.yticks([])\n",
        "class_label[np.argmax(out[i])]"
      ],
      "id": "cF8Jz2978BRS"
    },
    {
      "cell_type": "code",
      "execution_count": 9,
      "metadata": {
        "id": "wQYWPu198BRS",
        "outputId": "0542a6e1-b15b-407c-8a48-6749a277a57b",
        "colab": {
          "base_uri": "https://localhost:8080/",
          "height": 305
        }
      },
      "outputs": [
        {
          "output_type": "execute_result",
          "data": {
            "text/plain": [
              "Text(0.5, 1.0, 'label=9\\npredicted=5')"
            ]
          },
          "metadata": {},
          "execution_count": 9
        },
        {
          "output_type": "display_data",
          "data": {
            "text/plain": [
              "<Figure size 288x288 with 1 Axes>"
            ],
            "image/png": "[encoded data removed]"
          },
          "metadata": {}
        }
      ],
      "source": [
        "# Now look at some of the mistakes \n",
        "\n",
        "mistakes = np.argmax(out, axis=1) != np.argmax(y_test_binary, axis=1)\n",
        "mistake_indices = np.arange(len(out))[mistakes]\n",
        "\n",
        "i = np.random.choice(range(len(mistake_indices)))\n",
        "i = mistake_indices[i]\n",
        "plt.figure(figsize=(4,4))\n",
        "plt.imshow(x_test[i,:,:,0], cmap='gray_r')\n",
        "plt.xticks([])\n",
        "plt.yticks([])\n",
        "plt.title('label=%s\\npredicted=%s' % (class_label[np.argmax(y_test_binary[i])], class_label[np.argmax(out[i])]), fontsize=16)"
      ],
      "id": "wQYWPu198BRS"
    }
  ],
  "metadata": {
    "kernelspec": {
      "display_name": "Python 3",
      "language": "python",
      "name": "python3"
    },
    "language_info": {
      "codemirror_mode": {
        "name": "ipython",
        "version": 3
      },
      "file_extension": ".py",
      "mimetype": "text/x-python",
      "name": "python",
      "nbconvert_exporter": "python",
      "pygments_lexer": "ipython3",
      "version": "3.8.5"
    },
    "colab": {
      "provenance": []
    }
  },
  "nbformat": 4,
  "nbformat_minor": 5
}